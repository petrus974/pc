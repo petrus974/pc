{
 "cells": [
  {
   "cell_type": "markdown",
   "metadata": {},
   "source": [
    "Kenza Battaglia. TD2 - Résolution d'équations algébriques"
   ]
  },
  {
   "cell_type": "code",
   "execution_count": 6,
   "metadata": {},
   "outputs": [],
   "source": [
    "from math import exp\n",
    "from math import sqrt"
   ]
  },
  {
   "cell_type": "code",
   "execution_count": 7,
   "metadata": {
    "collapsed": true
   },
   "outputs": [],
   "source": [
    "import matplotlib.pyplot as plt \n",
    "import numpy as np"
   ]
  },
  {
   "cell_type": "markdown",
   "metadata": {},
   "source": [
    "Q1. Complexité spatiale: O(1)\n",
    "    Complexité temporelle: O(n)"
   ]
  },
  {
   "cell_type": "code",
   "execution_count": 1,
   "metadata": {
    "collapsed": true
   },
   "outputs": [],
   "source": [
    "def dicho1(f,a,b,n):\n",
    "    c=(a+b)/2\n",
    "    if f(a)*f(b)>0:    #On vérifie la condition initiale\n",
    "        return \"la fonction ne s'annule pas sur cet intervalle\"\n",
    "    for i in range(n):\n",
    "        if f(a)*f(c)<=0:  \n",
    "            gauche, droite = a, c\n",
    "        else:\n",
    "            gauche, droite = c, b\n",
    "    return (a,b)"
   ]
  },
  {
   "cell_type": "markdown",
   "metadata": {},
   "source": [
    "Q2.    Thèoriquement la fonction renvoie \"la fonction ne s'annule pas sur cet intervalle\" car f n'admet pas de racine sur [a,b]"
   ]
  },
  {
   "cell_type": "code",
   "execution_count": 3,
   "metadata": {},
   "outputs": [
    {
     "data": {
      "text/plain": [
       "\"la fonction ne s'annule pas sur cet intervalle\""
      ]
     },
     "execution_count": 3,
     "metadata": {},
     "output_type": "execute_result"
    }
   ],
   "source": [
    "dicho1(exp,0,1,10)"
   ]
  },
  {
   "cell_type": "markdown",
   "metadata": {},
   "source": [
    "Q3. Il s'agit d'un polynome du second degré donc g admet au maximum deux racines: alpha=(-b-sqrt(D))/(2*a) et beta=(-b+sqrt(D))/(2*a). g(1)=-6 et g(2)=5 donc le segment [1,2] contient une racine. De plus, g(-2)=-3\n",
    "et g(-3)=5 donc le segment [-2,-3] contient la deuxième racine."
   ]
  },
  {
   "cell_type": "code",
   "execution_count": 4,
   "metadata": {
    "collapsed": true
   },
   "outputs": [],
   "source": [
    "def g(x):\n",
    "    return(3*(x**2))+(2*x)-11"
   ]
  },
  {
   "cell_type": "markdown",
   "metadata": {},
   "source": [
    "Q4."
   ]
  },
  {
   "cell_type": "code",
   "execution_count": 5,
   "metadata": {
    "collapsed": true
   },
   "outputs": [],
   "source": [
    "def dicho2(f,a,b,eps):\n",
    "    n=0\n",
    "    while abs(b-a)>eps:\n",
    "        n+=1\n",
    "        c=(a+b)/2\n",
    "        if f(a)*f(c)<=0:\n",
    "            b=c\n",
    "        else:\n",
    "            a=c\n",
    "    return (c,n)"
   ]
  },
  {
   "cell_type": "markdown",
   "metadata": {},
   "source": [
    "Q5."
   ]
  },
  {
   "cell_type": "code",
   "execution_count": 6,
   "metadata": {},
   "outputs": [
    {
     "data": {
      "text/plain": [
       "(1.610317298269365, 34)"
      ]
     },
     "execution_count": 6,
     "metadata": {},
     "output_type": "execute_result"
    }
   ],
   "source": [
    "dicho2(g,1,2,10**-10)"
   ]
  },
  {
   "cell_type": "code",
   "execution_count": 7,
   "metadata": {},
   "outputs": [
    {
     "data": {
      "text/plain": [
       "(-2.2769839648972265, 34)"
      ]
     },
     "execution_count": 7,
     "metadata": {},
     "output_type": "execute_result"
    }
   ],
   "source": [
    "dicho2(g,-2,-3,10**-10)"
   ]
  },
  {
   "cell_type": "markdown",
   "metadata": {},
   "source": [
    "Q6."
   ]
  },
  {
   "cell_type": "markdown",
   "metadata": {},
   "source": [
    "On deduit n de la relation:   ((b-a)/2**n =< eps\n",
    "\n",
    "On trouve n => ln((b-a)/eps)"
   ]
  },
  {
   "cell_type": "code",
   "execution_count": 8,
   "metadata": {},
   "outputs": [
    {
     "data": {
      "text/plain": [
       "(1.5, 2)"
      ]
     },
     "execution_count": 8,
     "metadata": {},
     "output_type": "execute_result"
    }
   ],
   "source": [
    "dicho1(g,1,2,41)"
   ]
  },
  {
   "cell_type": "markdown",
   "metadata": {},
   "source": [
    "Q7.\n",
    "\n",
    "on trouve c= a - (f(a)*(b-a)/f(b) -f(a))"
   ]
  },
  {
   "cell_type": "markdown",
   "metadata": {},
   "source": [
    "Q8."
   ]
  },
  {
   "cell_type": "code",
   "execution_count": 10,
   "metadata": {
    "collapsed": true
   },
   "outputs": [],
   "source": [
    "def mfp(f,a,b,eps):\n",
    "    n=0\n",
    "    while abs(b-a)>eps and n<1000 :    #on rajoute un n pour ne pas que ca bloque\n",
    "        n+=1\n",
    "        c = a - (f(a)*(b-a)/(f(b)-f(a)))\n",
    "        if f(a)*f(c)<=0:\n",
    "            b=c\n",
    "        else:\n",
    "            a=c\n",
    "    return (c,n)"
   ]
  },
  {
   "cell_type": "code",
   "execution_count": 19,
   "metadata": {},
   "outputs": [
    {
     "data": {
      "text/plain": [
       "(1.6103172982817668, 16)"
      ]
     },
     "execution_count": 19,
     "metadata": {},
     "output_type": "execute_result"
    }
   ],
   "source": [
    "mfp(g,1,2,10**-10)"
   ]
  },
  {
   "cell_type": "code",
   "execution_count": 12,
   "metadata": {},
   "outputs": [
    {
     "data": {
      "text/plain": [
       "(-2.2769839649484336, 1000)"
      ]
     },
     "execution_count": 12,
     "metadata": {},
     "output_type": "execute_result"
    }
   ],
   "source": [
    "mfp(g,-3,-2,10**-10)"
   ]
  },
  {
   "cell_type": "markdown",
   "metadata": {},
   "source": [
    "Q9."
   ]
  },
  {
   "cell_type": "code",
   "execution_count": 13,
   "metadata": {
    "collapsed": true
   },
   "outputs": [],
   "source": [
    "def ListeTerme(f,fprime,u0,n):\n",
    "    L=[u0]\n",
    "    u= u0\n",
    "    g= lambda x: x-(f(x)/fprime(x))   #lambda permet d'introduire des fonctions localement\n",
    "    for i in range (1,n+1):\n",
    "        u=g(u)\n",
    "        L.append(u)\n",
    "    return L"
   ]
  },
  {
   "cell_type": "code",
   "execution_count": 14,
   "metadata": {},
   "outputs": [
    {
     "data": {
      "text/plain": [
       "[1,\n",
       " 2.0,\n",
       " 1.75,\n",
       " 1.7321428571428572,\n",
       " 1.7320508100147276,\n",
       " 1.7320508075688772,\n",
       " 1.7320508075688774,\n",
       " 1.7320508075688772,\n",
       " 1.7320508075688774,\n",
       " 1.7320508075688772,\n",
       " 1.7320508075688774]"
      ]
     },
     "execution_count": 14,
     "metadata": {},
     "output_type": "execute_result"
    }
   ],
   "source": [
    "ListeTerme(lambda x: x**2 - 3,lambda x: 2*x,1,10)"
   ]
  },
  {
   "cell_type": "markdown",
   "metadata": {},
   "source": [
    "Reaction? vitesse de convergence"
   ]
  },
  {
   "cell_type": "markdown",
   "metadata": {},
   "source": [
    "Q10."
   ]
  },
  {
   "cell_type": "code",
   "execution_count": 16,
   "metadata": {
    "collapsed": true
   },
   "outputs": [],
   "source": [
    "def Newton(f,fprime,u0,eps):\n",
    "    u1= u0-(f(u0)/fprime(u0))\n",
    "    n=0\n",
    "    while abs(u1-u0)>eps: \n",
    "        n+=1\n",
    "        u0=u1\n",
    "        u1 -= f(u1)/fprime(u1)\n",
    "    return(u0,n)"
   ]
  },
  {
   "cell_type": "markdown",
   "metadata": {},
   "source": [
    "Q11."
   ]
  },
  {
   "cell_type": "code",
   "execution_count": 2,
   "metadata": {
    "collapsed": true
   },
   "outputs": [],
   "source": [
    "def f(x):\n",
    "    return 2*x**5 - 15*x**4 + 40*x**3 - 20*x**2 -10*x + 2"
   ]
  },
  {
   "cell_type": "code",
   "execution_count": 3,
   "metadata": {
    "collapsed": true
   },
   "outputs": [],
   "source": [
    "def fprime(x):\n",
    "    return 10*x**4 - 60*x**3 + 120*x**2 - 40*x - 10"
   ]
  },
  {
   "cell_type": "code",
   "execution_count": 12,
   "metadata": {},
   "outputs": [
    {
     "data": {
      "image/png": "[encoded data removed]",
      "text/plain": [
       "<matplotlib.figure.Figure at 0x9392090>"
      ]
     },
     "metadata": {},
     "output_type": "display_data"
    }
   ],
   "source": [
    "X = np.linspace(-1, 3, 100)\n",
    "Y = f(X)\n",
    "plt.plot(X,Y)\n",
    "plt.grid()\n",
    "plt.show()"
   ]
  },
  {
   "cell_type": "markdown",
   "metadata": {},
   "source": [
    "Q12."
   ]
  },
  {
   "cell_type": "code",
   "execution_count": 27,
   "metadata": {
    "collapsed": true
   },
   "outputs": [],
   "source": [
    "def ListeTermeSecante(f,v0,v1,n):\n",
    "    L=[v0,v1]\n",
    "    v= v1 - ((v1-v0)/(f(v1)-f(v0)))*f(v1)\n",
    "    for i in range (2,n+1):\n",
    "        v0=v1\n",
    "        v1=v\n",
    "        L.append(v)\n",
    "    return L"
   ]
  },
  {
   "cell_type": "code",
   "execution_count": 31,
   "metadata": {},
   "outputs": [
    {
     "name": "stdout",
     "output_type": "stream",
     "text": [
      "[1, 2, 1.6666666666666667, 1.6666666666666667, 1.6666666666666667, 1.6666666666666667, 1.6666666666666667, 1.6666666666666667]\n",
      "[1, 2, 1.6666666666666667, 1.6666666666666667, 1.6666666666666667, 1.6666666666666667, 1.6666666666666667, 1.6666666666666667, 1.6666666666666667]\n",
      "[1, 2, 1.6666666666666667, 1.6666666666666667, 1.6666666666666667, 1.6666666666666667, 1.6666666666666667, 1.6666666666666667, 1.6666666666666667, 1.6666666666666667]\n",
      "[1, 2, 1.6666666666666667, 1.6666666666666667, 1.6666666666666667, 1.6666666666666667, 1.6666666666666667, 1.6666666666666667, 1.6666666666666667, 1.6666666666666667, 1.6666666666666667]\n"
     ]
    }
   ],
   "source": [
    "for i in range(7,11):\n",
    "    print (ListeTermeSecante(lambda x:(x**2)-3,1,2,i))"
   ]
  },
  {
   "cell_type": "markdown",
   "metadata": {},
   "source": [
    "Q13."
   ]
  },
  {
   "cell_type": "code",
   "execution_count": 45,
   "metadata": {
    "collapsed": true
   },
   "outputs": [],
   "source": [
    "def Secante(f,v0,v1,eps):\n",
    "    L=[v0,v1]\n",
    "    n=0\n",
    "    v= v1 - ((v1-v0)/(f(v1)-f(v0)))*f(v1)\n",
    "    while abs(v1-v0)>eps:\n",
    "        n+=1\n",
    "        v0=v1\n",
    "        v1=v\n",
    "    L.append(v)\n",
    "    return (v,n)"
   ]
  },
  {
   "cell_type": "markdown",
   "metadata": {},
   "source": [
    "Q14."
   ]
  },
  {
   "cell_type": "code",
   "execution_count": 46,
   "metadata": {},
   "outputs": [
    {
     "name": "stdout",
     "output_type": "stream",
     "text": [
      "(1.6875, 4) (1.7320508075688774, 15) (1.75, 2) (1.6666666666666667, 2)\n",
      "(1.7265625, 7) (1.7320508075688774, 15) (1.7321428571428572, 3) (1.6666666666666667, 2)\n",
      "(1.7314453125, 10) (1.7320508075688774, 15) (1.7321428571428572, 3) (1.6666666666666667, 2)\n",
      "(1.73199462890625, 14) (1.7320508075688774, 15) (1.7321428571428572, 3) (1.6666666666666667, 2)\n",
      "(1.7320480346679688, 17) (1.7320508075688774, 15) (1.7320508100147276, 4) (1.6666666666666667, 2)\n",
      "(1.732050895690918, 20) (1.7320508075688774, 15) (1.7320508100147276, 4) (1.6666666666666667, 2)\n",
      "(1.7320508360862732, 24) (1.7320508075688774, 15) (1.7320508100147276, 4) (1.6666666666666667, 2)\n",
      "(1.7320508137345314, 27) (1.7320508075688774, 15) (1.7320508100147276, 4) (1.6666666666666667, 2)\n",
      "(1.7320508072152734, 30) (1.7320508075688774, 15) (1.7320508075688772, 5) (1.6666666666666667, 2)\n",
      "(1.732050807622727, 34) (1.7320508075688774, 15) (1.7320508075688772, 5) (1.6666666666666667, 2)\n",
      "(1.7320508075717953, 37) (1.7320508075688774, 15) (1.7320508075688772, 5) (1.6666666666666667, 2)\n",
      "(1.7320508075690668, 40) (1.7320508075688774, 15) (1.7320508075688772, 5) (1.6666666666666667, 2)\n",
      "(1.7320508075688963, 44) (1.7320508075688774, 15) (1.7320508075688772, 5) (1.6666666666666667, 2)\n",
      "(1.732050807568875, 47) (1.7320508075688774, 15) (1.7320508075688772, 5) (1.6666666666666667, 2)\n",
      "(1.7320508075688776, 50) (1.7320508075688774, 15) (1.7320508075688772, 5) (1.6666666666666667, 2)\n"
     ]
    }
   ],
   "source": [
    "for i in range(1,16):\n",
    "    print(dicho2(lambda x : (x**2)-3,1,2,10**-i),mfp(lambda x : (x**2)-3,1,2,10**-i),Newton(lambda x : (x**2)-3,lambda x :2*x,1,10**-i),Secante(lambda x : (x**2)-3,1,2,10**-i))"
   ]
  },
  {
   "cell_type": "code",
   "execution_count": null,
   "metadata": {
    "collapsed": true
   },
   "outputs": [],
   "source": []
  }
 ],
 "metadata": {
  "kernelspec": {
   "display_name": "Python 3",
   "language": "python",
   "name": "python3"
  },
  "language_info": {
   "codemirror_mode": {
    "name": "ipython",
    "version": 3
   },
   "file_extension": ".py",
   "mimetype": "text/x-python",
   "name": "python",
   "nbconvert_exporter": "python",
   "pygments_lexer": "ipython3",
   "version": "3.6.2"
  }
 },
 "nbformat": 4,
 "nbformat_minor": 2
}
