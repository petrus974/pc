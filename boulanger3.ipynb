{
 "cells": [
  {
   "cell_type": "code",
   "execution_count": 1,
   "metadata": {
    "collapsed": false
   },
   "outputs": [
   ],
   "source": [
    "class file:\n",
    "    def __init__(self):\n",
    "        #-- -constructeur\n",
    "        self.liste=[]\n",
    "     \n",
    "    def __repr__(self):\n",
    "        S=' Queue -> '\n",
    "        i=0\n",
    "        while i<len(self.liste):\n",
    "            S=S+'  '+str(self.liste[i])+' -> '\n",
    "            i=i+1\n",
    "        S=S+' Tête '\n",
    "        return S\n",
    "         \n",
    "         \n",
    "     \n",
    "    def push(self,e):\n",
    "        self.liste=[e]+self.liste\n",
    " \n",
    " \n",
    "    def tete(self):\n",
    "        return self.liste[-1]\n",
    "         \n",
    "         \n",
    "    def pop(self):  \n",
    "        if len(self.liste)!=0 : \n",
    "            a=self.liste[-1]\n",
    "        else :\n",
    "            a=None   \n",
    "        del self.liste[len(self.liste)-1:len(self.liste)] \n",
    "        return a\n",
    "         \n",
    " \n",
    "    def est_vide(self):\n",
    "        return len(self.liste)==0\n",
    "         \n",
    "    def taille(self):\n",
    "        return len(self.liste)\n",
    "     "
   ]
  },
  {
   "cell_type": "code",
   "execution_count": 2,
   "metadata": {
    "collapsed": false
   },
   "outputs": [
   ],
   "source": [
    "class pile:\n",
    "    def __init__(self):\n",
    "        #-- -constructeur\n",
    "        self.liste=[]\n",
    "     \n",
    "    def __repr__(self):\n",
    "        S=' sommet \\n'\n",
    "        i=0\n",
    "        while i<len(self.liste):\n",
    "            S=S+'  '+str(self.liste[i])+'  \\n'\n",
    "            i=i+1\n",
    "        S=S+'  bas '\n",
    "        return S\n",
    "         \n",
    "         \n",
    "     \n",
    "    def push(self,e):\n",
    "        self.liste.insert(0,e)\n",
    " \n",
    "    def sommet(self):\n",
    "        return self.liste[0]        \n",
    "         \n",
    "    def pop(self):  \n",
    "        if len(self.liste)!=0 : \n",
    "            a=self.liste[0]\n",
    "        else :\n",
    "            a=None   \n",
    "        del self.liste[0:1] \n",
    "        return a\n",
    "         \n",
    " \n",
    "    def est_vide(self):\n",
    "        return len(self.liste)==0\n",
    "         \n",
    "    def taille(self):\n",
    "        return len(self.liste)"
   ]
  },
  {
   "cell_type": "markdown",
   "metadata": {
    "collapsed": false
   },
   "source": [
    "I-Utilisation de la structure de Piles"
   ]
  },
  {
   "cell_type": "markdown",
   "metadata": {
    "collapsed": false
   },
   "source": [
    "A) Fonctions générales"
   ]
  },
  {
   "cell_type": "code",
   "execution_count": 3,
   "metadata": {
    "collapsed": false
   },
   "outputs": [
   ],
   "source": [
    "def PileTest():# On demande une pile pas une fonction !\n",
    "    p=pile()\n",
    "    for i in range(1,8):\n",
    "        p.push(8-i)\n",
    "    return p\n"
   ]
  },
  {
   "cell_type": "code",
   "execution_count": 4,
   "metadata": {
    "collapsed": false
   },
   "outputs": [
    {
     "data": {
      "text/plain": [
       " sommet \n",
       "  1  \n",
       "  2  \n",
       "  3  \n",
       "  4  \n",
       "  5  \n",
       "  6  \n",
       "  7  \n",
       "  bas "
      ]
     },
     "execution_count": 4,
     "metadata": {
     },
     "output_type": "execute_result"
    }
   ],
   "source": [
    "PileTest()"
   ]
  },
  {
   "cell_type": "code",
   "execution_count": 5,
   "metadata": {
    "collapsed": false
   },
   "outputs": [
   ],
   "source": [
    "def CopierPile(p):\n",
    "    a,b = pile(),pile()\n",
    "    while p.est_vide()==False:\n",
    "        sommet = p.pop()\n",
    "        a.push(sommet)\n",
    "    while a.est_vide()==False:\n",
    "        sommet2=a.pop()\n",
    "        b.push(sommet2)\n",
    "        p.push(sommet2)\n",
    "        \n",
    "        \n",
    "    return b"
   ]
  },
  {
   "cell_type": "code",
   "execution_count": 6,
   "metadata": {
    "collapsed": false
   },
   "outputs": [
   ],
   "source": [
    "def Taille(p):\n",
    "    c=0\n",
    "    a=CopierPile(p)\n",
    "\n",
    "    if p.est_vide()==True:\n",
    "        return 0\n",
    "    else:\n",
    "        while a.est_vide()==False:\n",
    "            sommet = a.pop()\n",
    "            c+=1\n",
    "            \n",
    "        return c"
   ]
  },
  {
   "cell_type": "code",
   "execution_count": 7,
   "metadata": {
    "collapsed": false
   },
   "outputs": [
    {
     "data": {
      "text/plain": [
       "7"
      ]
     },
     "execution_count": 7,
     "metadata": {
     },
     "output_type": "execute_result"
    }
   ],
   "source": [
    "Taille(PileTest())"
   ]
  },
  {
   "cell_type": "code",
   "execution_count": 8,
   "metadata": {
    "collapsed": false
   },
   "outputs": [
   ],
   "source": [
    "def Sommet(p):\n",
    "    if p.est_vide()==True:\n",
    "        return None\n",
    "    else:\n",
    "        sommet = p.pop()\n",
    "    return sommet"
   ]
  },
  {
   "cell_type": "code",
   "execution_count": 9,
   "metadata": {
    "collapsed": false
   },
   "outputs": [
    {
     "data": {
      "text/plain": [
       "1"
      ]
     },
     "execution_count": 9,
     "metadata": {
     },
     "output_type": "execute_result"
    }
   ],
   "source": [
    "Sommet(PileTest())"
   ]
  },
  {
   "cell_type": "code",
   "execution_count": 10,
   "metadata": {
    "collapsed": false
   },
   "outputs": [
   ],
   "source": [
    "def CopierPile(p):\n",
    "    a,b = pile(),pile()\n",
    "    while p.est_vide()==False:\n",
    "        sommet = p.pop()\n",
    "        a.push(sommet)\n",
    "    while a.est_vide()==False:\n",
    "        sommet2=a.pop()\n",
    "        b.push(sommet2)\n",
    "        p.push(sommet2)\n",
    "        \n",
    "        \n",
    "    return b"
   ]
  },
  {
   "cell_type": "code",
   "execution_count": 22,
   "metadata": {
    "collapsed": false
   },
   "outputs": [
    {
     "data": {
      "text/plain": [
       " sommet \n",
       "  1  \n",
       "  2  \n",
       "  3  \n",
       "  4  \n",
       "  5  \n",
       "  6  \n",
       "  7  \n",
       "  bas "
      ]
     },
     "execution_count": 22,
     "metadata": {
     },
     "output_type": "execute_result"
    }
   ],
   "source": [
    "CopierPile(PileTest())"
   ]
  },
  {
   "cell_type": "markdown",
   "metadata": {
    "collapsed": false
   },
   "source": [
    "Il y a deux boucles while dont chacune des conditions d'arret dépend de la taille de la liste en argument. La complexité d'une boucle est donc en O(taille(p)). Et donc la complexité finale est O(2*taille(p))"
   ]
  },
  {
   "cell_type": "code",
   "execution_count": 12,
   "metadata": {
    "collapsed": false
   },
   "outputs": [
   ],
   "source": [
    "def TermePile(p,n):\n",
    "    L=[]\n",
    "    a = CopierPile(p)\n",
    "    if n>Taille(a):\n",
    "        return None\n",
    "    while a.est_vide()==False:\n",
    "        b=a.pop()\n",
    "        L.append(b)\n",
    "    for i in range (n):\n",
    "        Terme=L[i]\n",
    "    return Terme\n",
    "        "
   ]
  },
  {
   "cell_type": "code",
   "execution_count": 13,
   "metadata": {
    "collapsed": false
   },
   "outputs": [
    {
     "data": {
      "text/plain": [
       "5"
      ]
     },
     "execution_count": 13,
     "metadata": {
     },
     "output_type": "execute_result"
    }
   ],
   "source": [
    "TermePile(PileTest(),5)"
   ]
  },
  {
   "cell_type": "markdown",
   "metadata": {
    "collapsed": false
   },
   "source": [
    "Il y a une boucle for avec n itérations donc la complexité est au moins O(n). Or la boucle while rajoute une complexité qui dépend de la taille de a et donc de la taille de p. On rajoute donc une seconde complexité en O(n) soit une complexité totale de O(2n) soit O(n)."
   ]
  },
  {
   "cell_type": "code",
   "execution_count": 14,
   "metadata": {
    "collapsed": false
   },
   "outputs": [
   ],
   "source": [
    "def InverserPile(p):\n",
    "    a = CopierPile(p)\n",
    "    b=pile()\n",
    "    while a.est_vide()==False:\n",
    "        b.push(a.pop())\n",
    "    return b"
   ]
  },
  {
   "cell_type": "code",
   "execution_count": 15,
   "metadata": {
    "collapsed": false
   },
   "outputs": [
    {
     "data": {
      "text/plain": [
       "( sommet \n",
       "   7  \n",
       "   6  \n",
       "   5  \n",
       "   4  \n",
       "   3  \n",
       "   2  \n",
       "   1  \n",
       "   bas ,  sommet \n",
       "   1  \n",
       "   2  \n",
       "   3  \n",
       "   4  \n",
       "   5  \n",
       "   6  \n",
       "   7  \n",
       "   bas )"
      ]
     },
     "execution_count": 15,
     "metadata": {
     },
     "output_type": "execute_result"
    }
   ],
   "source": [
    "InverserPile(PileTest()),PileTest()"
   ]
  },
  {
   "cell_type": "code",
   "execution_count": 16,
   "metadata": {
    "collapsed": false
   },
   "outputs": [
   ],
   "source": [
    "def PremierDernierPile(p):\n",
    "    a=CopierPile(p)\n",
    "    b,c=pile(),pile()\n",
    "    c.push(a.pop())\n",
    "    while a.est_vide()==False:\n",
    "        b.push(a.pop())\n",
    "    while b.est_vide()==False:\n",
    "        c.push(b.pop())\n",
    "        \n",
    "    return c"
   ]
  },
  {
   "cell_type": "code",
   "execution_count": 17,
   "metadata": {
    "collapsed": false
   },
   "outputs": [
    {
     "data": {
      "text/plain": [
       " sommet \n",
       "  2  \n",
       "  3  \n",
       "  4  \n",
       "  5  \n",
       "  6  \n",
       "  7  \n",
       "  1  \n",
       "  bas "
      ]
     },
     "execution_count": 17,
     "metadata": {
     },
     "output_type": "execute_result"
    }
   ],
   "source": [
    "PremierDernierPile(PileTest())"
   ]
  },
  {
   "cell_type": "markdown",
   "metadata": {
    "collapsed": false
   },
   "source": [
    "Déterminons la complexité de chacune des boucles while. Les deux boucles dépendent de la taille des piles a et b, donc de la taille de p. Au total, on retrouve une complexité en O(2n) comme précedemment soit O(n)."
   ]
  },
  {
   "cell_type": "markdown",
   "metadata": {
    "collapsed": false
   },
   "source": [
    "B) Application à un jeu de carte"
   ]
  },
  {
   "cell_type": "code",
   "execution_count": 18,
   "metadata": {
    "collapsed": false
   },
   "outputs": [
   ],
   "source": [
    "def Couper(p,n):\n",
    "    q,c=pile(),n\n",
    "    if p.est_vide()==True:\n",
    "        return \"la pile est vide\"\n",
    "    elif n>Taille(p):\n",
    "        return \"la coupe est impossible\"\n",
    "    else:\n",
    "        while n!=0:\n",
    "            q.push(TermePile(p,n))\n",
    "            n-=1\n",
    "        for i in range(1,c+1):\n",
    "            p.pop()\n",
    "        a= InverserPile(p)\n",
    "        b= InverserPile(q)\n",
    "    return a,b"
   ]
  },
  {
   "cell_type": "code",
   "execution_count": 19,
   "metadata": {
    "collapsed": false
   },
   "outputs": [
    {
     "data": {
      "text/plain": [
       "( sommet \n",
       "   7  \n",
       "   6  \n",
       "   5  \n",
       "   4  \n",
       "   bas ,  sommet \n",
       "   3  \n",
       "   2  \n",
       "   1  \n",
       "   bas )"
      ]
     },
     "execution_count": 19,
     "metadata": {
     },
     "output_type": "execute_result"
    }
   ],
   "source": [
    "Couper(PileTest(),3)"
   ]
  },
  {
   "cell_type": "code",
   "execution_count": 20,
   "metadata": {
    "collapsed": false
   },
   "outputs": [
   ],
   "source": [
    "def Melanger(p1,p2):\n",
    "    q=pile()\n",
    "  \n",
    "    while not(p1.est_vide()) or not(p2.est_vide()):\n",
    "        a=random.randint(1,2)\n",
    "        if a ==1 and not(p1.est_vide()):\n",
    "            q.push(p1.pop())\n",
    "  \n",
    "        elif a==2 and not(p2.est_vide()):\n",
    "            q.push(p2.pop())\n",
    "    a=InverserPile(q)\n",
    "    return a"
   ]
  },
  {
   "cell_type": "code",
   "execution_count": 21,
   "metadata": {
    "collapsed": false
   },
   "outputs": [
    {
     "ename": "NameError",
     "evalue": "name 'random' is not defined",
     "output_type": "error",
     "traceback": [
      "\u001b[0;31m---------------------------------------------------------------------------\u001b[0m",
      "\u001b[0;31mNameError\u001b[0m                                 Traceback (most recent call last)",
      "\u001b[0;32m<ipython-input-21-b0c474278e24>\u001b[0m in \u001b[0;36m<module>\u001b[0;34m()\u001b[0m\n\u001b[0;32m----> 1\u001b[0;31m \u001b[0mMelanger\u001b[0m\u001b[0;34m(\u001b[0m\u001b[0mPileTest\u001b[0m\u001b[0;34m(\u001b[0m\u001b[0;34m)\u001b[0m\u001b[0;34m,\u001b[0m\u001b[0mPileTest\u001b[0m\u001b[0;34m(\u001b[0m\u001b[0;34m)\u001b[0m\u001b[0;34m)\u001b[0m\u001b[0;34m\u001b[0m\u001b[0m\n\u001b[0m",
      "\u001b[0;32m<ipython-input-20-51640aeb534b>\u001b[0m in \u001b[0;36mMelanger\u001b[0;34m(p1, p2)\u001b[0m\n\u001b[1;32m      3\u001b[0m \u001b[0;34m\u001b[0m\u001b[0m\n\u001b[1;32m      4\u001b[0m     \u001b[0;32mwhile\u001b[0m \u001b[0;32mnot\u001b[0m\u001b[0;34m(\u001b[0m\u001b[0mp1\u001b[0m\u001b[0;34m.\u001b[0m\u001b[0mest_vide\u001b[0m\u001b[0;34m(\u001b[0m\u001b[0;34m)\u001b[0m\u001b[0;34m)\u001b[0m \u001b[0;32mor\u001b[0m \u001b[0;32mnot\u001b[0m\u001b[0;34m(\u001b[0m\u001b[0mp2\u001b[0m\u001b[0;34m.\u001b[0m\u001b[0mest_vide\u001b[0m\u001b[0;34m(\u001b[0m\u001b[0;34m)\u001b[0m\u001b[0;34m)\u001b[0m\u001b[0;34m:\u001b[0m\u001b[0;34m\u001b[0m\u001b[0m\n\u001b[0;32m----> 5\u001b[0;31m         \u001b[0ma\u001b[0m\u001b[0;34m=\u001b[0m\u001b[0mrandom\u001b[0m\u001b[0;34m.\u001b[0m\u001b[0mrandint\u001b[0m\u001b[0;34m(\u001b[0m\u001b[0;36m1\u001b[0m\u001b[0;34m,\u001b[0m\u001b[0;36m2\u001b[0m\u001b[0;34m)\u001b[0m\u001b[0;34m\u001b[0m\u001b[0m\n\u001b[0m\u001b[1;32m      6\u001b[0m         \u001b[0;32mif\u001b[0m \u001b[0ma\u001b[0m \u001b[0;34m==\u001b[0m\u001b[0;36m1\u001b[0m \u001b[0;32mand\u001b[0m \u001b[0;32mnot\u001b[0m\u001b[0;34m(\u001b[0m\u001b[0mp1\u001b[0m\u001b[0;34m.\u001b[0m\u001b[0mest_vide\u001b[0m\u001b[0;34m(\u001b[0m\u001b[0;34m)\u001b[0m\u001b[0;34m)\u001b[0m\u001b[0;34m:\u001b[0m\u001b[0;34m\u001b[0m\u001b[0m\n\u001b[1;32m      7\u001b[0m             \u001b[0mq\u001b[0m\u001b[0;34m.\u001b[0m\u001b[0mpush\u001b[0m\u001b[0;34m(\u001b[0m\u001b[0mp1\u001b[0m\u001b[0;34m.\u001b[0m\u001b[0mpop\u001b[0m\u001b[0;34m(\u001b[0m\u001b[0;34m)\u001b[0m\u001b[0;34m)\u001b[0m\u001b[0;34m\u001b[0m\u001b[0m\n",
      "\u001b[0;31mNameError\u001b[0m: name 'random' is not defined"
     ]
    }
   ],
   "source": [
    "Melanger(PileTest(),PileTest())"
   ]
  },
  {
   "cell_type": "code",
   "execution_count": 0,
   "metadata": {
    "collapsed": false
   },
   "outputs": [
   ],
   "source": [
    "def magie():\n",
    "    jeu =pile()\n",
    "    for i in range(1,17):\n",
    "        jeu.push(\"R\")\n",
    "        jeu.push(\"N\")\n",
    "    \n",
    "    n=random.randint(1,31)\n",
    "    while n%2==0:\n",
    "        n=random.randint(1,31)\n",
    "    a,b=Couper(jeu,n)\n",
    "    c = Melanger(a,b)\n",
    "    return c"
   ]
  },
  {
   "cell_type": "code",
   "execution_count": 0,
   "metadata": {
    "collapsed": false
   },
   "outputs": [
   ],
   "source": [
    "magie()\n"
   ]
  },
  {
   "cell_type": "code",
   "execution_count": 0,
   "metadata": {
    "collapsed": false
   },
   "outputs": [
   ],
   "source": [
    "jeu1=pile()\n",
    "for i in range(1,13):\n",
    "    jeu1.push(i)\n",
    "n=random.randint(1,12)\n",
    "a,b=Couper(jeu1,n)\n",
    "c=Melanger(a,b)\n",
    "print(c)"
   ]
  },
  {
   "cell_type": "code",
   "execution_count": 0,
   "metadata": {
    "collapsed": false
   },
   "outputs": [
   ],
   "source": [
    "jeu2=InverserPile(c)\n",
    "print(jeu2)"
   ]
  },
  {
   "cell_type": "code",
   "execution_count": 0,
   "metadata": {
    "collapsed": false
   },
   "outputs": [
   ],
   "source": [
    "a=Melanger(c,jeu2)"
   ]
  },
  {
   "cell_type": "code",
   "execution_count": 0,
   "metadata": {
    "collapsed": false
   },
   "outputs": [
   ],
   "source": [
    "c,d=Couper(a,12)"
   ]
  },
  {
   "cell_type": "code",
   "execution_count": 0,
   "metadata": {
    "collapsed": false
   },
   "outputs": [
   ],
   "source": [
    "Melanger(c,d)"
   ]
  },
  {
   "cell_type": "code",
   "execution_count": 0,
   "metadata": {
    "collapsed": false
   },
   "outputs": [
   ],
   "source": [
    "def Magie2(n):\n",
    "    jeu1=pile()\n",
    "    for i in range(1,n+1):\n",
    "        jeu1.push(i)\n",
    "    z=random.randint(1,n)\n",
    "    a,b=Couper(jeu1,z)\n",
    "    c=Melanger(a,b)\n",
    "    jeu2=InverserPile(c)\n",
    "    a=Melanger(c,jeu2)\n",
    "    y,d=Couper(a,n)\n",
    "    return Melanger(y,d)"
   ]
  },
  {
   "cell_type": "code",
   "execution_count": 0,
   "metadata": {
    "collapsed": false
   },
   "outputs": [
   ],
   "source": [
    "Magie2(6)"
   ]
  },
  {
   "cell_type": "markdown",
   "metadata": {
    "collapsed": true
   },
   "source": [
    "Ce programme marche quelque fois ..."
   ]
  },
  {
   "cell_type": "markdown",
   "metadata": {
    "collapsed": false
   },
   "source": [
    "II-Utilisation de la struture Files"
   ]
  },
  {
   "cell_type": "code",
   "execution_count": 0,
   "metadata": {
    "collapsed": false
   },
   "outputs": [
   ],
   "source": [
    "def CopierFile(f):\n",
    "    a=file()\n",
    "    while f.est_vide()==False:\n",
    "        a.push(f.pop())\n",
    "    return a\n",
    "\n"
   ]
  },
  {
   "cell_type": "markdown",
   "metadata": {
    "collapsed": true
   },
   "source": [
    "Puisque l'on a une boucle while la complexité est difficile à préciser. Or la fonction ne fait que copier une autre file deja existante donc la complexité spatiale et temporelle correspond à la taille de la file à copier. La complexité est donc en O(taille(f))."
   ]
  },
  {
   "cell_type": "code",
   "execution_count": 0,
   "metadata": {
    "collapsed": false
   },
   "outputs": [
   ],
   "source": [
    "def FileTest():\n",
    "    a=file()\n",
    "    for i in range(1,8):\n",
    "        a.push(i)\n",
    "    return a"
   ]
  },
  {
   "cell_type": "code",
   "execution_count": 0,
   "metadata": {
    "collapsed": false
   },
   "outputs": [
   ],
   "source": [
    "FileTest()"
   ]
  },
  {
   "cell_type": "code",
   "execution_count": 0,
   "metadata": {
    "collapsed": false
   },
   "outputs": [
   ],
   "source": [
    "CopierFile(FileTest()),FileTest()"
   ]
  },
  {
   "cell_type": "code",
   "execution_count": 0,
   "metadata": {
    "collapsed": false
   },
   "outputs": [
   ],
   "source": [
    "def TermeFile(f,n):\n",
    "    a=CopierFile(f)\n",
    "    for i in range (n-1):\n",
    "        a.pop()\n",
    "    return a.pop()"
   ]
  },
  {
   "cell_type": "code",
   "execution_count": 0,
   "metadata": {
    "collapsed": false
   },
   "outputs": [
   ],
   "source": [
    "TermeFile(FileTest(),1)"
   ]
  },
  {
   "cell_type": "markdown",
   "metadata": {
    "collapsed": false
   },
   "source": [
    "Cette fois-ci on a une boucle for dans laquelle on effectue une opération donc la complexité est en O(n). En effet, on parcourt n-1 boucles."
   ]
  },
  {
   "cell_type": "code",
   "execution_count": 0,
   "metadata": {
    "collapsed": false
   },
   "outputs": [
   ],
   "source": [
    "def InverserFile(f):\n",
    "    a=CopierFile(f)\n",
    "    b,c=file(),pile()\n",
    "    while a.est_vide()==False:\n",
    "        c.push(a.pop())\n",
    "    while c.est_vide()==False:\n",
    "        b.push(c.pop())\n",
    "    return b"
   ]
  },
  {
   "cell_type": "code",
   "execution_count": 0,
   "metadata": {
    "collapsed": false
   },
   "outputs": [
   ],
   "source": [
    "InverserFile(FileTest()),FileTest()"
   ]
  },
  {
   "cell_type": "markdown",
   "metadata": {
    "collapsed": false
   },
   "source": [
    "Il y a deux boucles while. Ces deux boucles while sont similaires dans leur fonction, la complexité d'une donnera la complexité de l'autre. La durée de la boucle dépend de la condition d'arret qui porte sur la taille de la file a. Donc comme pour la fonction CopierFile, la complexité est en O(taille(a)) soit O(taille(f))(pour une boucle while). Donc au total, la complexité est en O(2*taille(f))."
   ]
  },
  {
   "cell_type": "code",
   "execution_count": 0,
   "metadata": {
    "collapsed": false
   },
   "outputs": [
   ],
   "source": [
    "def PremierDernierFile(p):\n",
    "    a=CopierFile(p)\n",
    "    c=a.pop()\n",
    "    a.push(c)\n",
    "    return a"
   ]
  },
  {
   "cell_type": "code",
   "execution_count": 0,
   "metadata": {
    "collapsed": false
   },
   "outputs": [
   ],
   "source": [
    "PremierDernierFile(FileTest()),FileTest()"
   ]
  },
  {
   "cell_type": "markdown",
   "metadata": {
    "collapsed": false
   },
   "source": [
    "Le programme effectué est relativement simple (pas de boucles ou d'opérations lourdes), la complexité est clairement de l'odre du O(1)."
   ]
  },
  {
   "cell_type": "code",
   "execution_count": 0,
   "metadata": {
    "collapsed": false
   },
   "outputs": [
   ],
   "source": [
   ]
  }
 ],
 "metadata": {
  "kernelspec": {
   "display_name": "Python 3 (Ubuntu Linux)",
   "language": "python",
   "name": "python3"
  },
  "language_info": {
   "codemirror_mode": {
    "name": "ipython",
    "version": 3
   },
   "file_extension": ".py",
   "mimetype": "text/x-python",
   "name": "python",
   "nbconvert_exporter": "python",
   "pygments_lexer": "ipython3",
   "version": "3.5.2"
  }
 },
 "nbformat": 4,
 "nbformat_minor": 0
}